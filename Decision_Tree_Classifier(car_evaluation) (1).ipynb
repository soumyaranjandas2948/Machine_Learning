{
  "nbformat": 4,
  "nbformat_minor": 0,
  "metadata": {
    "colab": {
      "private_outputs": true,
      "provenance": []
    },
    "kernelspec": {
      "name": "python3",
      "display_name": "Python 3"
    },
    "language_info": {
      "name": "python"
    }
  },
  "cells": [
    {
      "cell_type": "markdown",
      "source": [
        "# Import Libraries"
      ],
      "metadata": {
        "id": "t71f37AJz0xf"
      }
    },
    {
      "cell_type": "code",
      "execution_count": null,
      "metadata": {
        "id": "W_pjfrGuzLar"
      },
      "outputs": [],
      "source": [
        "import numpy as np\n",
        "import pandas as pd\n",
        "import matplotlib.pyplot as plt\n",
        "import seaborn as sns"
      ]
    },
    {
      "cell_type": "markdown",
      "source": [
        "# Import Dataset"
      ],
      "metadata": {
        "id": "sabi86Vt0IpI"
      }
    },
    {
      "cell_type": "code",
      "source": [
        "df = pd.read_csv('/content/car_evaluation (1).csv',header = None)"
      ],
      "metadata": {
        "id": "rd3RlLcL0Lky"
      },
      "execution_count": null,
      "outputs": []
    },
    {
      "cell_type": "code",
      "source": [
        "df.head()"
      ],
      "metadata": {
        "id": "iEQsDRdL0eU2"
      },
      "execution_count": null,
      "outputs": []
    },
    {
      "cell_type": "markdown",
      "source": [
        "# Exploratory DataAnalysis"
      ],
      "metadata": {
        "id": "GJ8ZkQ4x0y1L"
      }
    },
    {
      "cell_type": "code",
      "source": [
        "df.shape"
      ],
      "metadata": {
        "id": "UMGYpOhQ0lcb"
      },
      "execution_count": null,
      "outputs": []
    },
    {
      "cell_type": "code",
      "source": [
        "#Rename column names\n",
        "df.columns = ['buying', 'maint', 'doors', 'persons', 'lug_boot', 'safety', 'class']\n",
        "df.head()"
      ],
      "metadata": {
        "id": "YNPgpv23079Z"
      },
      "execution_count": null,
      "outputs": []
    },
    {
      "cell_type": "code",
      "source": [
        "#view summery of dataset\n",
        "df.info()\n",
        "#Here class is our output column"
      ],
      "metadata": {
        "id": "Dw3hwVwC1SPG"
      },
      "execution_count": null,
      "outputs": []
    },
    {
      "cell_type": "code",
      "source": [
        "#cheking for null values\n",
        "df.isnull().sum()"
      ],
      "metadata": {
        "id": "ZamWiJ831oEe"
      },
      "execution_count": null,
      "outputs": []
    },
    {
      "cell_type": "code",
      "source": [
        "df.describe().T"
      ],
      "metadata": {
        "id": "pI5xyWfM1tSC"
      },
      "execution_count": null,
      "outputs": []
    },
    {
      "cell_type": "code",
      "source": [
        "#Explore class variable\n",
        "df['class'].value_counts()"
      ],
      "metadata": {
        "id": "m0h6H3x62BMb"
      },
      "execution_count": null,
      "outputs": []
    },
    {
      "cell_type": "markdown",
      "source": [
        "# Declare feature vector and target variable"
      ],
      "metadata": {
        "id": "JpzBq5MI3yW4"
      }
    },
    {
      "cell_type": "code",
      "source": [
        "x = df.drop('class',axis = 1)\n",
        "y = df['class']"
      ],
      "metadata": {
        "id": "UMngrn-Q2lSt"
      },
      "execution_count": null,
      "outputs": []
    },
    {
      "cell_type": "markdown",
      "source": [
        "# Split data into train test split"
      ],
      "metadata": {
        "id": "C3m26Fok4etu"
      }
    },
    {
      "cell_type": "code",
      "source": [
        "from sklearn.model_selection import train_test_split\n",
        "x_train,x_test,y_train,y_test = train_test_split(x,y,test_size = 0.33,random_state = 42)"
      ],
      "metadata": {
        "id": "Q_KMxHd04jZv"
      },
      "execution_count": null,
      "outputs": []
    },
    {
      "cell_type": "code",
      "source": [
        "x_train.shape"
      ],
      "metadata": {
        "id": "svmXVIUR48b7"
      },
      "execution_count": null,
      "outputs": []
    },
    {
      "cell_type": "code",
      "source": [
        "x_test.shape"
      ],
      "metadata": {
        "id": "88cyG-Ec5AFg"
      },
      "execution_count": null,
      "outputs": []
    },
    {
      "cell_type": "markdown",
      "source": [
        "# Feature Engineering"
      ],
      "metadata": {
        "id": "R46AOivE4LzB"
      }
    },
    {
      "cell_type": "code",
      "source": [
        "x_train.dtypes"
      ],
      "metadata": {
        "id": "M4rOyyVZ3Fcr"
      },
      "execution_count": null,
      "outputs": []
    },
    {
      "cell_type": "markdown",
      "source": [
        "italicized text Encoding Categorical Labels"
      ],
      "metadata": {
        "id": "oWv01wln5XBE"
      }
    },
    {
      "cell_type": "code",
      "source": [
        "!pip install category_encoders\n",
        "import category_encoders as ce"
      ],
      "metadata": {
        "id": "iYOEvBtd5Wkr"
      },
      "execution_count": null,
      "outputs": []
    },
    {
      "cell_type": "code",
      "source": [
        "#here we are doing OrdinalEncoder\n",
        "encoder = ce.OrdinalEncoder(cols = ['buying', 'maint', 'doors', 'persons', 'lug_boot', 'safety'])\n",
        "x_train = encoder.fit_transform(x_train)\n",
        "x_test = encoder.transform(x_test)"
      ],
      "metadata": {
        "id": "ciC0DByA5QU3"
      },
      "execution_count": null,
      "outputs": []
    },
    {
      "cell_type": "code",
      "source": [
        "x_train.head()"
      ],
      "metadata": {
        "id": "lv3rgMKo6kM1"
      },
      "execution_count": null,
      "outputs": []
    },
    {
      "cell_type": "code",
      "source": [
        "x_test.head()"
      ],
      "metadata": {
        "id": "XuWiccVm64mA"
      },
      "execution_count": null,
      "outputs": []
    },
    {
      "cell_type": "markdown",
      "source": [
        "# Decision Tree Classifier with criterion gini index"
      ],
      "metadata": {
        "id": "y_06fsEu7HaS"
      }
    },
    {
      "cell_type": "code",
      "source": [
        "from sklearn.tree import DecisionTreeClassifier"
      ],
      "metadata": {
        "id": "u0e4VLTL7Gtg"
      },
      "execution_count": null,
      "outputs": []
    },
    {
      "cell_type": "code",
      "source": [
        "model = DecisionTreeClassifier(criterion = 'gini',max_depth = 3,random_state = 55)\n"
      ],
      "metadata": {
        "id": "mR3hi-6P67dT"
      },
      "execution_count": null,
      "outputs": []
    },
    {
      "cell_type": "code",
      "source": [
        "#fit the model\n",
        "model.fit(x_train,y_train)"
      ],
      "metadata": {
        "id": "RA5QoaGQ8He3"
      },
      "execution_count": null,
      "outputs": []
    },
    {
      "cell_type": "markdown",
      "source": [
        "# Check accuracy with gini criterion"
      ],
      "metadata": {
        "id": "sG6-oJSe8lHV"
      }
    },
    {
      "cell_type": "code",
      "source": [
        "y_pred_gini = model.predict(x_test)"
      ],
      "metadata": {
        "id": "D5Zspt6H8S_z"
      },
      "execution_count": null,
      "outputs": []
    },
    {
      "cell_type": "code",
      "source": [
        "y_pred_gini"
      ],
      "metadata": {
        "id": "CZp_PAde82Zc"
      },
      "execution_count": null,
      "outputs": []
    },
    {
      "cell_type": "code",
      "source": [
        "#Check accuracy with gini index criterion\n",
        "from sklearn.metrics import accuracy_score,classification_report\n",
        "print('model accuracy with gini index is : ',accuracy_score(y_test,y_pred_gini))"
      ],
      "metadata": {
        "id": "XirIyMDn85kR"
      },
      "execution_count": null,
      "outputs": []
    },
    {
      "cell_type": "code",
      "source": [
        "#compare the train-set and test-set accuracy\n",
        "y_pred_train_gini = model.predict(x_train)\n",
        "accuracy_score(y_train,y_pred_train_gini)"
      ],
      "metadata": {
        "id": "AydPOWmm9fbv"
      },
      "execution_count": null,
      "outputs": []
    },
    {
      "cell_type": "markdown",
      "source": [
        "Here the train accuracy is 78.65 and test accuracy is 80.21 so there is no sign of overfitting."
      ],
      "metadata": {
        "id": "Jc87G-Ls-sx7"
      }
    },
    {
      "cell_type": "markdown",
      "source": [
        "# Visualize decision tree"
      ],
      "metadata": {
        "id": "d1yRgSzW-_Jv"
      }
    },
    {
      "cell_type": "code",
      "source": [
        "from sklearn import tree\n",
        "tree.plot_tree(model.fit(x_train,y_train))"
      ],
      "metadata": {
        "id": "N3pCHFSS-ayl"
      },
      "execution_count": null,
      "outputs": []
    },
    {
      "cell_type": "markdown",
      "source": [
        "# Decision Tree Classifier with criterion entropy"
      ],
      "metadata": {
        "id": "vYly9XsfANo0"
      }
    },
    {
      "cell_type": "code",
      "source": [
        "model2 = DecisionTreeClassifier(criterion = 'entropy',max_depth = 3,random_state = 42)\n",
        "#fit the model\n",
        "model2.fit(x_train,y_train)"
      ],
      "metadata": {
        "id": "fgBBpgFu_P-R"
      },
      "execution_count": null,
      "outputs": []
    },
    {
      "cell_type": "code",
      "source": [
        "#predict test set results\n",
        "y_pred_en = model2.predict(x_test)\n",
        "y_pred_en"
      ],
      "metadata": {
        "id": "kRlg862bAv--"
      },
      "execution_count": null,
      "outputs": []
    },
    {
      "cell_type": "code",
      "source": [
        "accuracy_score(y_test,y_pred_en)"
      ],
      "metadata": {
        "id": "TEPk8VSgBEp7"
      },
      "execution_count": null,
      "outputs": []
    },
    {
      "cell_type": "code",
      "source": [
        "#checking overfitting\n",
        "y_train_pred = model2.predict(x_train)"
      ],
      "metadata": {
        "id": "Ke9NKCzjBTj9"
      },
      "execution_count": null,
      "outputs": []
    },
    {
      "cell_type": "code",
      "source": [
        "accuracy_score(y_train,y_train_pred)"
      ],
      "metadata": {
        "id": "hW9WssUFBmq4"
      },
      "execution_count": null,
      "outputs": []
    },
    {
      "cell_type": "markdown",
      "source": [
        "No overfitting problem"
      ],
      "metadata": {
        "id": "-ejag9JXCWj5"
      }
    },
    {
      "cell_type": "markdown",
      "source": [],
      "metadata": {
        "id": "I0XIKaESCWGu"
      }
    },
    {
      "cell_type": "code",
      "source": [
        "#vizualization of Trees\n",
        "from sklearn import tree\n",
        "tree.plot_tree(model2.fit(x_train,y_train))"
      ],
      "metadata": {
        "id": "bz3-AF9ZB7tt"
      },
      "execution_count": null,
      "outputs": []
    },
    {
      "cell_type": "code",
      "source": [
        "#confusion matrix\n",
        "from sklearn.metrics import classification_report,confusion_matrix\n",
        "confusion_matrix(y_test,y_pred_en)"
      ],
      "metadata": {
        "id": "D_FZZs1HCokK"
      },
      "execution_count": null,
      "outputs": []
    },
    {
      "cell_type": "code",
      "source": [
        "#classification report\n",
        "print(classification_report(y_test,y_pred_en))"
      ],
      "metadata": {
        "id": "VeIEkm4AC9c5"
      },
      "execution_count": null,
      "outputs": []
    },
    {
      "cell_type": "markdown",
      "source": [
        "# Results and conclusion\n",
        "\n",
        "\n",
        "In this project, I build a Decision-Tree Classifier model to predict the safety of the car. I build two models, one with criterion gini index and another one with criterion entropy. The model yields a very good performance as indicated by the model accuracy in both the cases which was found to be 0.8021.\n",
        "\n",
        "In the model with criterion gini index, the training-set accuracy score is 0.7865 while the test-set accuracy to be 0.8021. These two values are quite comparable. So, there is no sign of overfitting.\n",
        "\n",
        "Similarly, in the model with criterion entropy, the training-set accuracy score is 0.7865 while the test-set accuracy to be 0.8021.We get the same values as in the case with criterion gini. So, there is no sign of overfitting.\n",
        "\n",
        "In both the cases, the training-set and test-set accuracy score is the same. It may happen because of small dataset.\n",
        "\n",
        "The confusion matrix and classification report yields very good model performance."
      ],
      "metadata": {
        "id": "V8InhCAHD-zw"
      }
    },
    {
      "cell_type": "code",
      "source": [
        ""
      ],
      "metadata": {
        "id": "dqbWRx8gDsPg"
      },
      "execution_count": null,
      "outputs": []
    }
  ]
}